{
 "cells": [
  {
   "cell_type": "code",
   "execution_count": 9,
   "id": "40f24bbb-dd25-42d2-85d7-7e54fdfd5381",
   "metadata": {},
   "outputs": [],
   "source": [
    "import pandas as pd\n",
    "import matplotlib.pyplot as plt "
   ]
  },
  {
   "cell_type": "code",
   "execution_count": 1,
   "id": "3cd0642c-427b-41ce-913e-a9028514a238",
   "metadata": {},
   "outputs": [],
   "source": [
    "import sqlite3"
   ]
  },
  {
   "cell_type": "code",
   "execution_count": 2,
   "id": "6a18e86f-d6a3-4724-8e2c-07270a15cba0",
   "metadata": {},
   "outputs": [],
   "source": [
    "# connecting to sqlite3 database.\n",
    "conn = sqlite3.connect('sales_data.db')\n",
    "cursor = conn.cursor()"
   ]
  },
  {
   "cell_type": "code",
   "execution_count": 3,
   "id": "cadac730-59e3-4726-bf21-08b0dfc87be6",
   "metadata": {
    "scrolled": true
   },
   "outputs": [
    {
     "data": {
      "text/plain": [
       "<sqlite3.Cursor at 0x142b0df9640>"
      ]
     },
     "execution_count": 3,
     "metadata": {},
     "output_type": "execute_result"
    }
   ],
   "source": [
    "# writting qurey to create table.\n",
    "cursor.execute('''\n",
    "CREATE TABLE IF NOT EXISTS sales(\n",
    "    id INTEGER PRIMARY KEY,\n",
    "    product TEXT,\n",
    "    quantity INTEGER,\n",
    "    price REAL\n",
    ")\n",
    "''')"
   ]
  },
  {
   "cell_type": "code",
   "execution_count": 5,
   "id": "20484ceb-8893-497d-a0e9-f921d387ab8c",
   "metadata": {},
   "outputs": [],
   "source": [
    "# creating a sample_data to insert.\n",
    "sample_data = [\n",
    "    ('Apples',10,15),\n",
    "    ('Oranges',5,10),\n",
    "    ('Banana', 3,20),\n",
    "    ('Apples', 5,15),\n",
    "    ('Oranges',10,10),\n",
    "    ('Banana',  5,20)\n",
    "]"
   ]
  },
  {
   "cell_type": "code",
   "execution_count": 6,
   "id": "2bb4ee69-8d00-4b9f-ae92-4e987ac311e4",
   "metadata": {},
   "outputs": [],
   "source": [
    "# writting query to insert data into the table.\n",
    "cursor.executemany('INSERT INTO sales (product,quantity,price) VALUES (?,?,?)', sample_data)\n",
    "conn.commit()"
   ]
  },
  {
   "cell_type": "code",
   "execution_count": 7,
   "id": "8eef8920-28ba-4844-b8af-eccc59a07931",
   "metadata": {},
   "outputs": [
    {
     "name": "stdout",
     "output_type": "stream",
     "text": [
      "(1, 'Apples', 10, 15.0)\n",
      "(2, 'Oranges', 5, 10.0)\n",
      "(3, 'Banana', 3, 20.0)\n",
      "(4, 'Apples', 5, 15.0)\n",
      "(5, 'Oranges', 10, 10.0)\n",
      "(6, 'Banana', 5, 20.0)\n"
     ]
    }
   ],
   "source": [
    "# For checking wether the values are inserted or not.\n",
    "cursor.execute(\"SELECT * FROM sales\")\n",
    "rows = cursor.fetchall()\n",
    "\n",
    "for row in rows:\n",
    "    print(row)"
   ]
  },
  {
   "cell_type": "code",
   "execution_count": 8,
   "id": "ea49730d-7155-42c3-8f8b-6b8c10cda170",
   "metadata": {},
   "outputs": [],
   "source": [
    "# writting another query.\n",
    "query = '''\n",
    "SELECT \n",
    "    product,\n",
    "    SUM(quantity) AS total_qty,\n",
    "    SUM(quantity * price) AS total_revenue\n",
    "FROM sales\n",
    "GROUP BY product\n",
    "'''"
   ]
  },
  {
   "cell_type": "code",
   "execution_count": 10,
   "id": "bc8cb306-e77d-47c1-814b-fcdcbb0cd59e",
   "metadata": {},
   "outputs": [],
   "source": [
    "# loading result with pandas.\n",
    "df=pd.read_sql_query(query,conn)"
   ]
  },
  {
   "cell_type": "code",
   "execution_count": 11,
   "id": "a7d3a2c3-a32d-4113-8cfc-a781dd57777c",
   "metadata": {},
   "outputs": [
    {
     "name": "stdout",
     "output_type": "stream",
     "text": [
      "   product  total_qty  total_revenue\n",
      "0   Apples         15          225.0\n",
      "1   Banana          8          160.0\n",
      "2  Oranges         15          150.0\n"
     ]
    }
   ],
   "source": [
    "# printing the data 0r query which we done.\n",
    "print(df)"
   ]
  },
  {
   "cell_type": "code",
   "execution_count": 15,
   "id": "1a36204f-fd36-4cf7-a3e2-974ecdfc61c9",
   "metadata": {},
   "outputs": [
    {
     "data": {
      "image/png": "[encoded data removed]",
      "text/plain": [
       "<Figure size 640x480 with 1 Axes>"
      ]
     },
     "metadata": {},
     "output_type": "display_data"
    }
   ],
   "source": [
    "# visualize with matplotlib creating a chart.\n",
    "df.plot(kind='bar', x='product', y='total_revenue', legend=False)\n",
    "plt.title('Revenue by product')\n",
    "plt.ylabel('Revenue ($)')\n",
    "#plt.tight_layout()\n",
    "plt.show()"
   ]
  },
  {
   "cell_type": "code",
   "execution_count": 16,
   "id": "d4cc72d8-1871-49d2-b44e-4787c9d61243",
   "metadata": {},
   "outputs": [
    {
     "data": {
      "text/plain": [
       "<Figure size 640x480 with 0 Axes>"
      ]
     },
     "metadata": {},
     "output_type": "display_data"
    }
   ],
   "source": [
    "plt.savefig('sales_chart.png')"
   ]
  },
  {
   "cell_type": "code",
   "execution_count": null,
   "id": "1bb13bf8-8b28-4066-a672-7540bead5e34",
   "metadata": {},
   "outputs": [],
   "source": []
  }
 ],
 "metadata": {
  "kernelspec": {
   "display_name": "Python 3 (ipykernel)",
   "language": "python",
   "name": "python3"
  },
  "language_info": {
   "codemirror_mode": {
    "name": "ipython",
    "version": 3
   },
   "file_extension": ".py",
   "mimetype": "text/x-python",
   "name": "python",
   "nbconvert_exporter": "python",
   "pygments_lexer": "ipython3",
   "version": "3.13.1"
  }
 },
 "nbformat": 4,
 "nbformat_minor": 5
}
